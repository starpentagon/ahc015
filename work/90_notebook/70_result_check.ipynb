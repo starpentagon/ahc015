{
 "cells": [
  {
   "cell_type": "code",
   "execution_count": 1,
   "metadata": {},
   "outputs": [],
   "source": [
    "import os\n",
    "import glob\n",
    "\n",
    "import time\n",
    "import datetime\n",
    "\n",
    "import math\n",
    "\n",
    "import numpy as np\n",
    "import pandas as pd\n",
    "\n",
    "from matplotlib import pyplot as plt"
   ]
  },
  {
   "cell_type": "code",
   "execution_count": 2,
   "metadata": {},
   "outputs": [],
   "source": [
    "def rot_x(phi):\n",
    "    rot_mat = np.matrix([\n",
    "        [1, 0, 0],\n",
    "        [0, math.cos(phi), math.sin(phi)],\n",
    "        [0, -math.sin(phi), math.cos(phi)],\n",
    "    ]\n",
    "    )\n",
    "    \n",
    "    for i in range(3):\n",
    "        for j in range(3):\n",
    "            if abs(rot_mat[i, j]) < 10 ** -6:\n",
    "                rot_mat[i, j] = 0\n",
    "    \n",
    "    return rot_mat\n",
    "\n",
    "def rot_y(theta):\n",
    "    rot_mat = np.matrix([\n",
    "        [math.cos(theta), 0, -math.sin(theta)],\n",
    "        [0, 1, 0],\n",
    "        [math.sin(theta), 0, math.cos(theta)],\n",
    "    ]\n",
    "    )\n",
    "\n",
    "    for i in range(3):\n",
    "        for j in range(3):\n",
    "            if abs(rot_mat[i, j]) < 10 ** -6:\n",
    "                rot_mat[i, j] = 0\n",
    "    \n",
    "    return rot_mat\n",
    "\n",
    "def rot_z(psi):\n",
    "    rot_mat = np.matrix([\n",
    "        [math.cos(psi), math.sin(psi), 0],\n",
    "        [-math.sin(psi), math.cos(psi), 0],\n",
    "        [0, 0, 1],\n",
    "    ]\n",
    "    )\n",
    "\n",
    "    for i in range(3):\n",
    "        for j in range(3):\n",
    "            if abs(rot_mat[i, j]) < 10 ** -6:\n",
    "                rot_mat[i, j] = 0\n",
    "    \n",
    "    return rot_mat\n",
    "\n",
    "def mat_str(m):\n",
    "    s = ''\n",
    "    \n",
    "    for i in range(3):\n",
    "        for j in range(3):\n",
    "            d = int(m[i, j])\n",
    "            \n",
    "            if abs(d - m[i,j])  > 10 ** -6:\n",
    "                print('float value!', d, m[i,j], abs(d - m[i,j]))\n",
    "            \n",
    "            s += str(d) + ' '\n",
    "            \n",
    "    return s\n",
    "\n",
    "def mat_dict_update(x, y, z, mat_dict):\n",
    "    x_mat = x_list[x]\n",
    "    y_mat = y_list[y]\n",
    "    z_mat = z_list[z]\n",
    "    \n",
    "    x_l = 'x{}'.format(x)    \n",
    "    y_l = 'y{}'.format(y)    \n",
    "    z_l = 'z{}'.format(z)    \n",
    "    \n",
    "    c_list = [\n",
    "        (x_l + y_l + z_l, x_mat * y_mat * z_mat),\n",
    "        (x_l + z_l + y_l, x_mat * z_mat * y_mat),\n",
    "        (y_l + x_l + z_l, y_mat * x_mat * z_mat),\n",
    "        (y_l + z_l + x_l, y_mat * z_mat * x_mat),\n",
    "        (z_l + x_l + y_l, z_mat * x_mat * y_mat),\n",
    "        (z_l + y_l + x_l, z_mat * y_mat * x_mat),\n",
    "    ]\n",
    "    \n",
    "    for l, m in c_list:\n",
    "        m_s = mat_str(m)\n",
    "        \n",
    "        if m_s not in mat_dict.keys():\n",
    "            mat_dict[m_s] = []\n",
    "        \n",
    "        mat_dict[m_s].append(l)\n",
    "    \n",
    "    return mat_dict"
   ]
  },
  {
   "cell_type": "code",
   "execution_count": 3,
   "metadata": {},
   "outputs": [],
   "source": [
    "x_list = [rot_x(i * math.pi/2) for i in range(4)]\n",
    "y_list = [rot_y(i * math.pi/2) for i in range(4)]\n",
    "z_list = [rot_z(i * math.pi/2) for i in range(4)]\n",
    "\n",
    "mat_dict = {}\n",
    "\n",
    "for x in range(4):\n",
    "    for y in range(4):\n",
    "        for z in range(4):\n",
    "            mat_dict = mat_dict_update(x, y, z, mat_dict)\n",
    "\n",
    "mat_list = []\n",
    "\n",
    "for k in mat_dict.keys():\n",
    "    vals = list(map(int, k.split()))\n",
    "    vals = np.array(vals).reshape((3, 3))\n",
    "\n",
    "    m = np.matrix(vals)\n",
    "    mat_list.append(m)    "
   ]
  },
  {
   "cell_type": "code",
   "execution_count": 4,
   "metadata": {},
   "outputs": [],
   "source": [
    "def rotate(ref_pos, pos, mat):\n",
    "    rot_pos = []\n",
    "    \n",
    "    for i in range(3):\n",
    "        v = 0\n",
    "        \n",
    "        for j in range(3):\n",
    "            v += mat[i, j] * (pos[j] - ref_pos[j])\n",
    "            \n",
    "        v += ref_pos[i]\n",
    "        rot_pos.append(v)\n",
    "        \n",
    "    return rot_pos"
   ]
  },
  {
   "cell_type": "code",
   "execution_count": 5,
   "metadata": {},
   "outputs": [],
   "source": [
    "def block_same_check(block_1, block_2):\n",
    "    s_block_1 = sorted(block_1)\n",
    "    s_block_2 = sorted(block_2)\n",
    "    \n",
    "    ref_1 = s_block_1[0]\n",
    "    ref_2 = s_block_2[0]\n",
    "    \n",
    "    for i in range(len(block_1)):\n",
    "        p_1 = list(s_block_1[i])\n",
    "        p_2 = list(s_block_2[i])\n",
    "        \n",
    "        for j in range(3):\n",
    "            p_1[j] -= ref_1[j]\n",
    "            p_2[j] -= ref_2[j]\n",
    "            \n",
    "            if p_1[j] != p_2[j]:\n",
    "                return False\n",
    "    return True"
   ]
  },
  {
   "cell_type": "code",
   "execution_count": 6,
   "metadata": {},
   "outputs": [],
   "source": [
    "def get_rotation_index(pos_list_1, pos_list_2):\n",
    "    ref_pos_1 = pos_list_1[0]\n",
    "    rotation_list = []\n",
    "    \n",
    "    for rotation in range(24):\n",
    "        rot_pos_list_1 = []\n",
    "        \n",
    "        for pos_1 in pos_list_1:\n",
    "            rot_pos = rotate(ref_pos_1, pos_1, mat_list[rotation])\n",
    "            rot_pos_list_1.append(rot_pos)\n",
    "            \n",
    "        same = block_same_check(rot_pos_list_1, pos_list_2)\n",
    "        \n",
    "        if same:\n",
    "            rotation_list.append(rotation)\n",
    "    \n",
    "    return rotation_list"
   ]
  },
  {
   "cell_type": "code",
   "execution_count": 7,
   "metadata": {},
   "outputs": [],
   "source": [
    "CHAMP_PATH = os.path.join('/home', 'jovyan', 'work', 'result', 'champion', 'champ_all.csv')\n",
    "champ_df = pd.read_csv(CHAMP_PATH)"
   ]
  },
  {
   "cell_type": "code",
   "execution_count": 31,
   "metadata": {},
   "outputs": [],
   "source": [
    "seed = 1401\n",
    "result = champ_df.query('seed == {}'.format(seed))['champion_result'].to_list()[0]\n",
    "D = int(champ_df.query('seed == {}'.format(seed))['D'].to_list()[0])"
   ]
  },
  {
   "cell_type": "code",
   "execution_count": 32,
   "metadata": {},
   "outputs": [
    {
     "data": {
      "text/html": [
       "<div>\n",
       "<style scoped>\n",
       "    .dataframe tbody tr th:only-of-type {\n",
       "        vertical-align: middle;\n",
       "    }\n",
       "\n",
       "    .dataframe tbody tr th {\n",
       "        vertical-align: top;\n",
       "    }\n",
       "\n",
       "    .dataframe thead th {\n",
       "        text-align: right;\n",
       "    }\n",
       "</style>\n",
       "<table border=\"1\" class=\"dataframe\">\n",
       "  <thead>\n",
       "    <tr style=\"text-align: right;\">\n",
       "      <th></th>\n",
       "      <th>seed</th>\n",
       "      <th>D</th>\n",
       "      <th>problem</th>\n",
       "      <th>champion</th>\n",
       "      <th>champion_score</th>\n",
       "      <th>champion_result</th>\n",
       "    </tr>\n",
       "  </thead>\n",
       "  <tbody>\n",
       "    <tr>\n",
       "      <th>1269</th>\n",
       "      <td>1401</td>\n",
       "      <td>14</td>\n",
       "      <td>14 11111110000000 11111110000000 1111111000000...</td>\n",
       "      <td>cellpair-3-beam-5-50K</td>\n",
       "      <td>7254347</td>\n",
       "      <td>2R0-2-2-2-2-2-2-2-2-2-2-2-2-2-0-2-2-2-2-2-2-2-...</td>\n",
       "    </tr>\n",
       "  </tbody>\n",
       "</table>\n",
       "</div>"
      ],
      "text/plain": [
       "      seed   D                                            problem  \\\n",
       "1269  1401  14  14 11111110000000 11111110000000 1111111000000...   \n",
       "\n",
       "                   champion  champion_score  \\\n",
       "1269  cellpair-3-beam-5-50K         7254347   \n",
       "\n",
       "                                        champion_result  \n",
       "1269  2R0-2-2-2-2-2-2-2-2-2-2-2-2-2-0-2-2-2-2-2-2-2-...  "
      ]
     },
     "execution_count": 32,
     "metadata": {},
     "output_type": "execute_result"
    }
   ],
   "source": [
    "champ_df.query('seed == {}'.format(seed))"
   ]
  },
  {
   "cell_type": "code",
   "execution_count": 2,
   "metadata": {},
   "outputs": [],
   "source": [
    "# 手動設定\n",
    "result = '2R0-0-0-0-0-0-0-0-0-0-0-0-0-0-0-0-0-0-0-0-0-0-0-0-0-0-0-0-0-0-0-0-0-0-0-0-0-0-0-0-0-0-0-0-0-0-0-0-0-0-0-0-0-0-0-0-0-0-0-0-0-0-0-0-0-0-0-0-0-0-0-0-0-0-0-1-1-1-2-2-0-1-1-1-2-0-0-0-1-2-0-0-0-1-0-0-0-0-0-0-1-1-1-2-2-0-1-1-2-2-0-0-0-2-2-0-0-0-2-0-0-0-0-0-0R0-2-2-2-2-0-1-1-1-2-0-0-0-0-0-0-0-0-0-0-0-0-0-0-0-1-1-2-2-2-1-1-2-2-2-0-0-0-0-0-0-0-0-0-0-0-0-0-0-0-1-1-0-0-0-1-1-0-0-0-0-0-0-0-0-0-0-0-0-0-0-0-0-0-0-1-0-0-0-0-1-0-0-0-0-0-0-0-0-0-0-0-0-0-0-0-0-0-0-0-0-0-0-0-0-0-0-0-0-0-0-0-0-0-0-0-0-0-0-0-0-0-0-0-0'"
   ]
  },
  {
   "cell_type": "code",
   "execution_count": 3,
   "metadata": {
    "scrolled": true
   },
   "outputs": [
    {
     "name": "stdout",
     "output_type": "stream",
     "text": [
      "2\n",
      "0 0 0 0 0 0 0 0 0 0 0 0 0 0 0 0 0 0 0 0 0 0 0 0 0 0 0 0 0 0 0 0 0 0 0 0 0 0 0 0 0 0 0 0 0 0 0 0 0 0 0 0 0 0 0 0 0 0 0 0 0 0 0 0 0 0 0 0 0 0 0 0 0 0 0 1 1 1 2 2 0 1 1 1 2 0 0 0 1 2 0 0 0 1 0 0 0 0 0 0 1 1 1 2 2 0 1 1 2 2 0 0 0 2 2 0 0 0 2 0 0 0 0 0 0\n",
      "0 2 2 2 2 0 1 1 1 2 0 0 0 0 0 0 0 0 0 0 0 0 0 0 0 1 1 2 2 2 1 1 2 2 2 0 0 0 0 0 0 0 0 0 0 0 0 0 0 0 1 1 0 0 0 1 1 0 0 0 0 0 0 0 0 0 0 0 0 0 0 0 0 0 0 1 0 0 0 0 1 0 0 0 0 0 0 0 0 0 0 0 0 0 0 0 0 0 0 0 0 0 0 0 0 0 0 0 0 0 0 0 0 0 0 0 0 0 0 0 0 0 0 0 0\n"
     ]
    }
   ],
   "source": [
    "print(result.replace('R', '\\n').replace('-', ' '))"
   ]
  },
  {
   "cell_type": "code",
   "execution_count": 30,
   "metadata": {},
   "outputs": [
    {
     "name": "stdout",
     "output_type": "stream",
     "text": [
      "38\n",
      "25\n"
     ]
    }
   ],
   "source": [
    "print(result.count('1'))\n",
    "print(result.count('2'))"
   ]
  },
  {
   "cell_type": "code",
   "execution_count": 20,
   "metadata": {},
   "outputs": [],
   "source": [
    "shape_1 = list(map(int, result.split('R')[1].split('-')))\n",
    "shape_2 = list(map(int, result.split('R')[2].split('-')))\n",
    "\n",
    "block_1_1 = []\n",
    "block_1_2 = []\n",
    "block_2_1 = []\n",
    "block_2_2 = []\n",
    "\n",
    "for z in range(D):\n",
    "    for y in range(D):\n",
    "        for x in range(D):\n",
    "            index = D**2 * x + D * y + z\n",
    "            \n",
    "            block_no = shape_1[index]\n",
    "            \n",
    "            if block_no == 1:\n",
    "                block_1_1.append((x, y, z))\n",
    "            elif block_no == 2:\n",
    "                block_1_2.append((x, y, z))\n",
    "\n",
    "            block_no = shape_2[index]\n",
    "            \n",
    "            if block_no == 1:\n",
    "                block_2_1.append((x, y, z))\n",
    "            elif block_no == 2:\n",
    "                block_2_2.append((x, y, z))\n"
   ]
  },
  {
   "cell_type": "code",
   "execution_count": 18,
   "metadata": {},
   "outputs": [],
   "source": [
    "def set_block(index, block, block_no):\n",
    "    for x, y, z in block:\n",
    "        print('shapes_[{}].SetBlockNo({{{}, {}, {}}}, {});'.format(index, x, y, z, block_no))"
   ]
  },
  {
   "cell_type": "code",
   "execution_count": 19,
   "metadata": {},
   "outputs": [],
   "source": [
    "def block_1_hash(block):\n",
    "    x, y, z = block[0]\n",
    "    \n",
    "    print(\"Block debug_block(D_, {{{}, {}, {}}});\".format(x, y, z))\n",
    "\n",
    "    for x, y, z in block[1:]:\n",
    "        print('debug_block.AddBlock({{{}, {}, {}}});'.format(x, y, z))\n",
    "        \n",
    "    print('debug(debug_block.Hash(0));')"
   ]
  },
  {
   "cell_type": "code",
   "execution_count": 20,
   "metadata": {},
   "outputs": [
    {
     "data": {
      "text/plain": [
       "[20]"
      ]
     },
     "execution_count": 20,
     "metadata": {},
     "output_type": "execute_result"
    }
   ],
   "source": [
    "get_rotation_index(block_1_2, block_2_2)"
   ]
  },
  {
   "cell_type": "code",
   "execution_count": 21,
   "metadata": {},
   "outputs": [
    {
     "data": {
      "text/plain": [
       "10"
      ]
     },
     "execution_count": 21,
     "metadata": {},
     "output_type": "execute_result"
    }
   ],
   "source": [
    "len(block_1_1)"
   ]
  },
  {
   "cell_type": "code",
   "execution_count": 22,
   "metadata": {},
   "outputs": [
    {
     "data": {
      "text/plain": [
       "12"
      ]
     },
     "execution_count": 22,
     "metadata": {},
     "output_type": "execute_result"
    }
   ],
   "source": [
    "len(block_1_2)"
   ]
  },
  {
   "cell_type": "code",
   "execution_count": 23,
   "metadata": {
    "scrolled": false
   },
   "outputs": [
    {
     "data": {
      "text/plain": [
       "[(0, 2, 0),\n",
       " (0, 1, 1),\n",
       " (0, 2, 1),\n",
       " (0, 3, 1),\n",
       " (0, 2, 2),\n",
       " (1, 2, 2),\n",
       " (0, 3, 2),\n",
       " (1, 3, 2),\n",
       " (0, 1, 3),\n",
       " (0, 2, 3)]"
      ]
     },
     "execution_count": 23,
     "metadata": {},
     "output_type": "execute_result"
    }
   ],
   "source": [
    "block_1_1"
   ]
  },
  {
   "cell_type": "code",
   "execution_count": 24,
   "metadata": {},
   "outputs": [
    {
     "data": {
      "text/plain": [
       "[(0, 0, 3),\n",
       " (1, 0, 3),\n",
       " (2, 0, 3),\n",
       " (1, 1, 3),\n",
       " (2, 1, 3),\n",
       " (1, 2, 3),\n",
       " (2, 2, 3),\n",
       " (0, 1, 4),\n",
       " (1, 1, 4),\n",
       " (2, 1, 4),\n",
       " (1, 2, 4),\n",
       " (2, 2, 4)]"
      ]
     },
     "execution_count": 24,
     "metadata": {},
     "output_type": "execute_result"
    }
   ],
   "source": [
    "block_1_2"
   ]
  },
  {
   "cell_type": "code",
   "execution_count": 216,
   "metadata": {},
   "outputs": [
    {
     "data": {
      "text/plain": [
       "[(4, 2, 0),\n",
       " (4, 3, 0),\n",
       " (4, 3, 1),\n",
       " (4, 3, 2),\n",
       " (3, 4, 2),\n",
       " (4, 4, 2),\n",
       " (3, 4, 3),\n",
       " (4, 4, 3),\n",
       " (3, 4, 4),\n",
       " (4, 4, 4)]"
      ]
     },
     "execution_count": 216,
     "metadata": {},
     "output_type": "execute_result"
    }
   ],
   "source": [
    "block_2_1"
   ]
  },
  {
   "cell_type": "code",
   "execution_count": 217,
   "metadata": {
    "scrolled": true
   },
   "outputs": [
    {
     "data": {
      "text/plain": [
       "[(3, 0, 0),\n",
       " (2, 1, 0),\n",
       " (3, 1, 0),\n",
       " (4, 1, 0),\n",
       " (2, 1, 1),\n",
       " (4, 1, 1),\n",
       " (2, 2, 1),\n",
       " (2, 3, 1),\n",
       " (3, 3, 1),\n",
       " (2, 4, 1),\n",
       " (3, 4, 1),\n",
       " (4, 4, 1),\n",
       " (3, 3, 2)]"
      ]
     },
     "execution_count": 217,
     "metadata": {},
     "output_type": "execute_result"
    }
   ],
   "source": [
    "block_2_2"
   ]
  },
  {
   "cell_type": "code",
   "execution_count": 218,
   "metadata": {},
   "outputs": [
    {
     "name": "stdout",
     "output_type": "stream",
     "text": [
      "shapes_[0].SetBlockNo({1, 2, 0}, 2);\n",
      "shapes_[0].SetBlockNo({1, 3, 0}, 2);\n",
      "shapes_[0].SetBlockNo({1, 3, 1}, 2);\n",
      "shapes_[0].SetBlockNo({1, 3, 2}, 2);\n",
      "shapes_[0].SetBlockNo({0, 4, 2}, 2);\n",
      "shapes_[0].SetBlockNo({1, 4, 2}, 2);\n",
      "shapes_[0].SetBlockNo({0, 4, 3}, 2);\n",
      "shapes_[0].SetBlockNo({1, 4, 3}, 2);\n",
      "shapes_[0].SetBlockNo({0, 4, 4}, 2);\n",
      "shapes_[0].SetBlockNo({1, 4, 4}, 2);\n"
     ]
    }
   ],
   "source": [
    "set_block(0, block_1_1, 2)"
   ]
  },
  {
   "cell_type": "code",
   "execution_count": 219,
   "metadata": {
    "scrolled": true
   },
   "outputs": [
    {
     "name": "stdout",
     "output_type": "stream",
     "text": [
      "shapes_[1].SetBlockNo({4, 2, 0}, 2);\n",
      "shapes_[1].SetBlockNo({4, 3, 0}, 2);\n",
      "shapes_[1].SetBlockNo({4, 3, 1}, 2);\n",
      "shapes_[1].SetBlockNo({4, 3, 2}, 2);\n",
      "shapes_[1].SetBlockNo({3, 4, 2}, 2);\n",
      "shapes_[1].SetBlockNo({4, 4, 2}, 2);\n",
      "shapes_[1].SetBlockNo({3, 4, 3}, 2);\n",
      "shapes_[1].SetBlockNo({4, 4, 3}, 2);\n",
      "shapes_[1].SetBlockNo({3, 4, 4}, 2);\n",
      "shapes_[1].SetBlockNo({4, 4, 4}, 2);\n"
     ]
    }
   ],
   "source": [
    "set_block(1, block_2_1, 2)"
   ]
  },
  {
   "cell_type": "code",
   "execution_count": 23,
   "metadata": {},
   "outputs": [
    {
     "name": "stdout",
     "output_type": "stream",
     "text": [
      "Block debug_block(D_, {2, 1, 0});\n",
      "debug_block.AddBlock({1, 1, 1});\n",
      "debug_block.AddBlock({2, 1, 1});\n",
      "debug_block.AddBlock({1, 1, 2});\n",
      "debug_block.AddBlock({2, 1, 2});\n",
      "debug_block.AddBlock({3, 1, 2});\n",
      "debug_block.AddBlock({2, 1, 3});\n",
      "debug_block.AddBlock({3, 1, 3});\n",
      "debug_block.AddBlock({2, 1, 4});\n",
      "debug_block.AddBlock({3, 1, 4});\n",
      "debug_block.AddBlock({2, 2, 4});\n",
      "debug_block.AddBlock({3, 2, 4});\n",
      "debug(debug_block.Hash(0));\n"
     ]
    }
   ],
   "source": [
    "block_1_hash(block_1_2)"
   ]
  },
  {
   "cell_type": "code",
   "execution_count": null,
   "metadata": {},
   "outputs": [],
   "source": []
  }
 ],
 "metadata": {
  "kernelspec": {
   "display_name": "Python 3 (ipykernel)",
   "language": "python",
   "name": "python3"
  },
  "language_info": {
   "codemirror_mode": {
    "name": "ipython",
    "version": 3
   },
   "file_extension": ".py",
   "mimetype": "text/x-python",
   "name": "python",
   "nbconvert_exporter": "python",
   "pygments_lexer": "ipython3",
   "version": "3.10.10"
  }
 },
 "nbformat": 4,
 "nbformat_minor": 4
}
