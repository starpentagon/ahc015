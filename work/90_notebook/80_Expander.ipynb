{
 "cells": [
  {
   "cell_type": "code",
   "execution_count": 1,
   "metadata": {},
   "outputs": [],
   "source": [
    "import os\n",
    "import pandas as pd"
   ]
  },
  {
   "cell_type": "code",
   "execution_count": 2,
   "metadata": {},
   "outputs": [],
   "source": [
    "PRJ_DIR = os.path.join('/home', 'jovyan', 'work')\n",
    "MAIN_SRC = os.path.join(PRJ_DIR, 'main.cpp')"
   ]
  },
  {
   "cell_type": "code",
   "execution_count": 3,
   "metadata": {},
   "outputs": [],
   "source": [
    "expand_file_list = []\n",
    "\n",
    "with open(MAIN_SRC, 'r') as f:\n",
    "    lines = f.readlines()\n",
    "    \n",
    "    for line in lines:\n",
    "        line = line.strip()\n",
    "        \n",
    "        if \"#include\" in line and '\"' in line:\n",
    "            file = line.replace(\"#include\", \"\")\n",
    "            file = file.replace('\"', \"\")\n",
    "            file = file.replace(' ', \"\")\n",
    "            \n",
    "            expand_file_list.append(file)\n",
    "            \n",
    "            file = file.replace(\".hpp\", \".cpp\")\n",
    "            expand_file_list.append(file)\n",
    "            \n",
    "expand_file_list.append('main.cpp')"
   ]
  },
  {
   "cell_type": "code",
   "execution_count": 9,
   "metadata": {},
   "outputs": [
    {
     "data": {
      "text/plain": [
       "['XorShift.hpp',\n",
       " 'Parameter.hpp',\n",
       " 'BoxState.hpp',\n",
       " 'SolveOneDir.hpp',\n",
       " 'debug.hpp',\n",
       " 'XorShift.cpp',\n",
       " 'Parameter.cpp',\n",
       " 'BoxState.cpp',\n",
       " 'SolveOneDir.cpp',\n",
       " 'debug.cpp',\n",
       " 'main.cpp']"
      ]
     },
     "execution_count": 9,
     "metadata": {},
     "output_type": "execute_result"
    }
   ],
   "source": [
    "expand_file_list"
   ]
  },
  {
   "cell_type": "code",
   "execution_count": 10,
   "metadata": {},
   "outputs": [],
   "source": [
    "file_list = []\n",
    "\n",
    "for f in expand_file_list:\n",
    "    if '.hpp' in f:\n",
    "        file_list.append(f)\n",
    "\n",
    "for f in expand_file_list:\n",
    "    if '.cpp' in f:\n",
    "        file_list.append(f)"
   ]
  },
  {
   "cell_type": "code",
   "execution_count": 11,
   "metadata": {},
   "outputs": [],
   "source": [
    "expand_file_list = file_list"
   ]
  },
  {
   "cell_type": "code",
   "execution_count": 14,
   "metadata": {},
   "outputs": [],
   "source": [
    "expanded_source = [\"#define NDEBUG\\n\"]\n",
    "\n",
    "chmax_def = False\n",
    "chmin_def = False\n",
    "\n",
    "for file in expand_file_list:\n",
    "    if 'debug.cpp' in file:\n",
    "        continue\n",
    "    \n",
    "    file_name = os.path.join(PRJ_DIR, file)\n",
    "    \n",
    "    with open(file_name, 'r') as f:\n",
    "        for line in f.readlines():\n",
    "            if \"#include\" in line and '\"' in line:\n",
    "                continue\n",
    "                \n",
    "            if \"#pragma once\" in line:\n",
    "                continue\n",
    "                \n",
    "            if 'bool chmax' in line:\n",
    "                if chmax_def:\n",
    "                    continue\n",
    "                else:\n",
    "                    chmax_def = True\n",
    "                    \n",
    "            if 'bool chmin' in line:\n",
    "                if chmin_def:\n",
    "                    continue\n",
    "                else:\n",
    "                    chmin_def = True\n",
    "                    \n",
    "            expanded_source.append(line)\n",
    "\n",
    "    expanded_source.append(\"\\n\")"
   ]
  },
  {
   "cell_type": "code",
   "execution_count": 15,
   "metadata": {},
   "outputs": [],
   "source": [
    "with open(\"../combined.cpp\", \"w\") as f:\n",
    "    for line in expanded_source:\n",
    "        f.writelines(line)"
   ]
  },
  {
   "cell_type": "code",
   "execution_count": null,
   "metadata": {},
   "outputs": [],
   "source": []
  },
  {
   "cell_type": "code",
   "execution_count": null,
   "metadata": {},
   "outputs": [],
   "source": []
  }
 ],
 "metadata": {
  "kernelspec": {
   "display_name": "Python 3 (ipykernel)",
   "language": "python",
   "name": "python3"
  },
  "language_info": {
   "codemirror_mode": {
    "name": "ipython",
    "version": 3
   },
   "file_extension": ".py",
   "mimetype": "text/x-python",
   "name": "python",
   "nbconvert_exporter": "python",
   "pygments_lexer": "ipython3",
   "version": "3.11.3"
  }
 },
 "nbformat": 4,
 "nbformat_minor": 4
}
