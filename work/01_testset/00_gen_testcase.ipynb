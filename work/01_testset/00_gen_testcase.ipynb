{
 "cells": [
  {
   "cell_type": "code",
   "execution_count": 1,
   "id": "2d69c3b6",
   "metadata": {},
   "outputs": [],
   "source": [
    "import os\n",
    "import glob\n",
    "\n",
    "import pandas as pd\n",
    "\n",
    "from tqdm import tqdm"
   ]
  },
  {
   "cell_type": "code",
   "execution_count": 2,
   "id": "d7fdb18f",
   "metadata": {},
   "outputs": [
    {
     "data": {
      "text/plain": [
       "'/home/jovyan/work/01_testset'"
      ]
     },
     "execution_count": 2,
     "metadata": {},
     "output_type": "execute_result"
    }
   ],
   "source": [
    "os.getcwd()"
   ]
  },
  {
   "cell_type": "code",
   "execution_count": 6,
   "id": "4d306645",
   "metadata": {},
   "outputs": [],
   "source": [
    "prob_set = []"
   ]
  },
  {
   "cell_type": "code",
   "execution_count": 7,
   "id": "82fed9b6",
   "metadata": {},
   "outputs": [],
   "source": [
    "# 前提: inフォルダ内にテストケースのファイルが存在\n",
    "IN_FILE_PATH = os.path.join(os.getcwd(), 'in', '*.txt')\n",
    "txt_path_list = []\n",
    "\n",
    "for txt_path in glob.glob(IN_FILE_PATH):\n",
    "    txt_path_list.append(txt_path)\n",
    "    \n",
    "txt_path_list = sorted(txt_path_list)"
   ]
  },
  {
   "cell_type": "code",
   "execution_count": 8,
   "id": "df839626",
   "metadata": {},
   "outputs": [
    {
     "data": {
      "text/plain": [
       "200"
      ]
     },
     "execution_count": 8,
     "metadata": {},
     "output_type": "execute_result"
    }
   ],
   "source": [
    "len(txt_path_list)"
   ]
  },
  {
   "cell_type": "code",
   "execution_count": 9,
   "id": "409c8e7e",
   "metadata": {},
   "outputs": [
    {
     "name": "stderr",
     "output_type": "stream",
     "text": [
      "100%|██████████████████████████████████████████████████████████████████████████████| 200/200 [00:00<00:00, 41124.66it/s]\n"
     ]
    }
   ],
   "source": [
    "for txt_path in tqdm(txt_path_list):\n",
    "    # seed番号をファイル名から取得\n",
    "    seed = txt_path.split('/')[-1].replace('.txt', '')\n",
    "\n",
    "    with open(txt_path, 'r') as f:\n",
    "        lines = f.readlines()\n",
    "        lines = [s.replace('\\n', '') for s in lines]\n",
    "        \n",
    "        prob_def = ' '.join(lines)\n",
    "        prob_set.append((seed, prob_def))"
   ]
  },
  {
   "cell_type": "markdown",
   "id": "3e2ec010",
   "metadata": {},
   "source": [
    "## 暫定テスト相当"
   ]
  },
  {
   "cell_type": "code",
   "execution_count": 11,
   "id": "ccdd531d",
   "metadata": {},
   "outputs": [],
   "source": [
    "def gen_testcase(L):\n",
    "    test_cnt = 0\n",
    "\n",
    "    seed_list = []\n",
    "    prob_def_list = []\n",
    "\n",
    "    while test_cnt < L:\n",
    "        for i in range(2000):\n",
    "            if test_cnt == L:\n",
    "                break\n",
    "\n",
    "            seed, prob_def = prob_set[i]\n",
    "\n",
    "            seed_list.append(int(seed))\n",
    "            prob_def_list.append(prob_def)\n",
    "\n",
    "            test_cnt += 1\n",
    "\n",
    "    testset_df = pd.DataFrame()\n",
    "\n",
    "    testset_df['seed'] = seed_list\n",
    "    testset_df['problem'] = prob_def_list\n",
    "    \n",
    "    return testset_df"
   ]
  },
  {
   "cell_type": "code",
   "execution_count": 12,
   "id": "915ddfca",
   "metadata": {},
   "outputs": [],
   "source": [
    "L = 200\n",
    "tag = 'pre'\n",
    "testset_df = gen_testcase(L)"
   ]
  },
  {
   "cell_type": "code",
   "execution_count": 36,
   "id": "4651ce5b",
   "metadata": {},
   "outputs": [],
   "source": [
    "testset_df.to_csv('01_testset_{}_master.csv'.format(tag), index=False)"
   ]
  },
  {
   "cell_type": "markdown",
   "id": "dd7cdf7f",
   "metadata": {},
   "source": [
    "## パラメタ調整用"
   ]
  },
  {
   "cell_type": "code",
   "execution_count": 15,
   "id": "25a2c3c5",
   "metadata": {},
   "outputs": [],
   "source": [
    "L = 200\n",
    "tag = 'sys'\n",
    "testset_df = gen_testcase(L)"
   ]
  },
  {
   "cell_type": "code",
   "execution_count": 16,
   "id": "16b724ae",
   "metadata": {},
   "outputs": [],
   "source": [
    "testset_df.to_csv('01_testset_{}_master.csv'.format(tag), index=False)"
   ]
  },
  {
   "cell_type": "markdown",
   "id": "8b01e1a8",
   "metadata": {},
   "source": [
    "## システムテスト相当"
   ]
  },
  {
   "cell_type": "code",
   "execution_count": 14,
   "id": "99b251f6",
   "metadata": {},
   "outputs": [
    {
     "ename": "IndexError",
     "evalue": "list index out of range",
     "output_type": "error",
     "traceback": [
      "\u001b[0;31m---------------------------------------------------------------------------\u001b[0m",
      "\u001b[0;31mIndexError\u001b[0m                                Traceback (most recent call last)",
      "Cell \u001b[0;32mIn[14], line 3\u001b[0m\n\u001b[1;32m      1\u001b[0m L \u001b[38;5;241m=\u001b[39m \u001b[38;5;241m2000\u001b[39m\n\u001b[1;32m      2\u001b[0m tag \u001b[38;5;241m=\u001b[39m \u001b[38;5;124m'\u001b[39m\u001b[38;5;124msys\u001b[39m\u001b[38;5;124m'\u001b[39m\n\u001b[0;32m----> 3\u001b[0m testset_df \u001b[38;5;241m=\u001b[39m \u001b[43mgen_testcase\u001b[49m\u001b[43m(\u001b[49m\u001b[43mL\u001b[49m\u001b[43m)\u001b[49m\n",
      "Cell \u001b[0;32mIn[11], line 12\u001b[0m, in \u001b[0;36mgen_testcase\u001b[0;34m(L)\u001b[0m\n\u001b[1;32m      9\u001b[0m \u001b[38;5;28;01mif\u001b[39;00m test_cnt \u001b[38;5;241m==\u001b[39m L:\n\u001b[1;32m     10\u001b[0m     \u001b[38;5;28;01mbreak\u001b[39;00m\n\u001b[0;32m---> 12\u001b[0m seed, prob_def \u001b[38;5;241m=\u001b[39m \u001b[43mprob_set\u001b[49m\u001b[43m[\u001b[49m\u001b[43mi\u001b[49m\u001b[43m]\u001b[49m\n\u001b[1;32m     14\u001b[0m seed_list\u001b[38;5;241m.\u001b[39mappend(\u001b[38;5;28mint\u001b[39m(seed))\n\u001b[1;32m     15\u001b[0m prob_def_list\u001b[38;5;241m.\u001b[39mappend(prob_def)\n",
      "\u001b[0;31mIndexError\u001b[0m: list index out of range"
     ]
    }
   ],
   "source": [
    "L = 2000\n",
    "tag = 'sys'\n",
    "testset_df = gen_testcase(L)"
   ]
  },
  {
   "cell_type": "code",
   "execution_count": 39,
   "id": "2e745637",
   "metadata": {},
   "outputs": [],
   "source": [
    "testset_df.to_csv('02_testset_{}_master.csv'.format(tag), index=False)"
   ]
  },
  {
   "cell_type": "markdown",
   "id": "6b9641b8",
   "metadata": {},
   "source": [
    "## ストレステスト用"
   ]
  },
  {
   "cell_type": "code",
   "execution_count": 40,
   "id": "7894c381",
   "metadata": {},
   "outputs": [],
   "source": [
    "L = 10000\n",
    "tag = 'stress'\n",
    "testset_df = gen_testcase(L)"
   ]
  },
  {
   "cell_type": "code",
   "execution_count": 42,
   "id": "fadda366",
   "metadata": {},
   "outputs": [],
   "source": [
    "testset_df.to_csv('03_testset_{}_master.csv'.format(tag), index=False)"
   ]
  },
  {
   "cell_type": "code",
   "execution_count": null,
   "id": "ec0c2c64",
   "metadata": {},
   "outputs": [],
   "source": []
  }
 ],
 "metadata": {
  "kernelspec": {
   "display_name": "Python 3 (ipykernel)",
   "language": "python",
   "name": "python3"
  },
  "language_info": {
   "codemirror_mode": {
    "name": "ipython",
    "version": 3
   },
   "file_extension": ".py",
   "mimetype": "text/x-python",
   "name": "python",
   "nbconvert_exporter": "python",
   "pygments_lexer": "ipython3",
   "version": "3.11.3"
  }
 },
 "nbformat": 4,
 "nbformat_minor": 5
}
